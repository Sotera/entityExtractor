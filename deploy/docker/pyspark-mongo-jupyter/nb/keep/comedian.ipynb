{
 "cells": [
  {
   "cell_type": "markdown",
   "metadata": {},
   "source": [
    "# Setup"
   ]
  },
  {
   "cell_type": "code",
   "execution_count": 312,
   "metadata": {},
   "outputs": [],
   "source": [
    "from pyspark.sql import SparkSession, Row\n",
    "from pyspark.sql.functions import *\n",
    "from pyspark.sql.types import *\n",
    "\n",
    "from scipy.special import gdtr\n",
    "import uuid\n",
    "from datetime import datetime as dt"
   ]
  },
  {
   "cell_type": "code",
   "execution_count": 313,
   "metadata": {
    "collapsed": true
   },
   "outputs": [],
   "source": [
    "# master_url = \"spark://master:7077\"\n",
    "master_url = 'local[*]' # to see print()s in imported modules\n",
    "\n",
    "spk = SparkSession.builder.master(master_url).getOrCreate()\n",
    "sc = spk.sparkContext\n",
    "sc.setLogLevel('WARN')"
   ]
  },
  {
   "cell_type": "code",
   "execution_count": 314,
   "metadata": {
    "collapsed": true
   },
   "outputs": [],
   "source": [
    "from pymongo import MongoClient\n",
    "\n",
    "uri_str = 'mongodb://mongo:27017'\n",
    "mongo = MongoClient(uri_str)\n",
    "db_name = 'rancor'\n",
    "mongo_ds = 'com.mongodb.spark.sql'"
   ]
  },
  {
   "cell_type": "code",
   "execution_count": 344,
   "metadata": {
    "collapsed": true
   },
   "outputs": [],
   "source": [
    "# current window\n",
    "start_time = 1491751418000\n",
    "end_time = 1491752017999\n",
    "\n",
    "# prior start time\n",
    "priors_start_time = start_time - 604800000\n",
    "\n",
    "min_posts = 10\n",
    "threshold = 0.7\n",
    "\n",
    "# case sensitive?\n",
    "posts_name = 'socialMediaPost'\n",
    "priors_name = 'postsCluster'\n",
    "\n",
    "posts_uri = dict(uri=uri_str, database=db_name, collection=posts_name)\n",
    "priors_uri = dict(uri=uri_str, database=db_name, collection=priors_name)"
   ]
  },
  {
   "cell_type": "code",
   "execution_count": 380,
   "metadata": {},
   "outputs": [
    {
     "data": {
      "text/plain": [
       "316"
      ]
     },
     "execution_count": 380,
     "metadata": {},
     "output_type": "execute_result"
    }
   ],
   "source": [
    "# load smposts\n",
    "df = spk.read.load(format=mongo_ds, **posts_uri).select('_id', 'featurizer', 'hashtags', 'lang', 'post_id', 'timestamp_ms')\n",
    "df = df\\\n",
    "    .where(df['timestamp_ms'] >= start_time)\\\n",
    "    .where(df['timestamp_ms'] <= end_time)\\\n",
    "    .where(df['featurizer'] == 'hashtag')\n",
    "\n",
    "df.count()"
   ]
  },
  {
   "cell_type": "code",
   "execution_count": 381,
   "metadata": {},
   "outputs": [
    {
     "data": {
      "text/plain": [
       "3"
      ]
     },
     "execution_count": 381,
     "metadata": {},
     "output_type": "execute_result"
    }
   ],
   "source": [
    "# load postsclusters\n",
    "pr_df = spk.read.load(format=mongo_ds, **priors_uri)\\\n",
    ".select('_id', 'end_time_ms', 'data_type', 'term', 'similar_post_ids', 'similar_ids', 'stats')\n",
    "\n",
    "pr_df = pr_df\\\n",
    "    .where(pr_df['end_time_ms'] >= priors_start_time)\\\n",
    "    .where(pr_df['end_time_ms'] <= start_time)\\\n",
    "    .where(pr_df['data_type'] == 'hashtag')\n",
    "\n",
    "pr_df.count()"
   ]
  },
  {
   "cell_type": "code",
   "execution_count": 37,
   "metadata": {
    "collapsed": true
   },
   "outputs": [
    {
     "name": "stdout",
     "output_type": "stream",
     "text": [
      "root\n",
      " |-- _id: struct (nullable = true)\n",
      " |    |-- oid: string (nullable = true)\n",
      " |-- featurizer: string (nullable = true)\n",
      " |-- hashtags: array (nullable = true)\n",
      " |    |-- element: string (containsNull = true)\n",
      " |-- lang: string (nullable = true)\n",
      " |-- post_id: string (nullable = true)\n",
      " |-- timestamp_ms: double (nullable = true)\n",
      "\n"
     ]
    }
   ],
   "source": [
    "df.printSchema()"
   ]
  },
  {
   "cell_type": "markdown",
   "metadata": {},
   "source": [
    "# Playground for existing code"
   ]
  },
  {
   "cell_type": "code",
   "execution_count": 38,
   "metadata": {
    "collapsed": true
   },
   "outputs": [],
   "source": [
    "from hashtag_similarity import HashtagClusters\n",
    "hash_clust = HashtagClusters(10, 'http://172.17.0.1:3000/api/postsclusters', start_time)"
   ]
  },
  {
   "cell_type": "code",
   "execution_count": 39,
   "metadata": {
    "collapsed": true
   },
   "outputs": [],
   "source": [
    "bc_hc = sc.broadcast(hash_clust)"
   ]
  },
  {
   "cell_type": "code",
   "execution_count": 40,
   "metadata": {
    "collapsed": true
   },
   "outputs": [],
   "source": [
    "def process_vector(doc_id, post_id, tags, hc):\n",
    "    hc.value.process_vector(doc_id, post_id, tags)\n",
    "    return hc.value.get_clusters()"
   ]
  },
  {
   "cell_type": "code",
   "execution_count": 41,
   "metadata": {
    "collapsed": true
   },
   "outputs": [],
   "source": [
    "r = df.rdd.map(lambda post: process_vector(post._id, post.post_id, post.hashtags, bc_hc))"
   ]
  },
  {
   "cell_type": "code",
   "execution_count": 42,
   "metadata": {},
   "outputs": [
    {
     "data": {
      "text/plain": [
       "227"
      ]
     },
     "execution_count": 42,
     "metadata": {},
     "output_type": "execute_result"
    }
   ],
   "source": [
    "r.count()"
   ]
  },
  {
   "cell_type": "code",
   "execution_count": 43,
   "metadata": {
    "collapsed": true
   },
   "outputs": [
    {
     "data": {
      "text/plain": [
       "{'egyptian': {'similar_ids': [Row(oid='58ea4d53d645272bcbbeade8'),\n",
       "   Row(oid='58ea4d62d645272bcbbeae1d'),\n",
       "   Row(oid='58ea4da7d645272bcbbeaf68'),\n",
       "   Row(oid='58ea4dd3d645272bcbbeb04b'),\n",
       "   Row(oid='58ea4e29d645272bcbbeb18c'),\n",
       "   Row(oid='58ea4e6dd645272bcbbeb29b'),\n",
       "   Row(oid='58ea4e99d645272bcbbeb325'),\n",
       "   Row(oid='58ea4eb0d645272bcbbeb37c'),\n",
       "   Row(oid='58ea4ee7d645272bcbbeb465'),\n",
       "   Row(oid='58ea4ef4d645272bcbbeb490')],\n",
       "  'similar_post_ids': ['851088256687120385',\n",
       "   '851088315315040257',\n",
       "   '851088609142861825',\n",
       "   '851088793037885440',\n",
       "   '851089153576009728',\n",
       "   '851089439879184384',\n",
       "   '851089624344666112',\n",
       "   '851089717735174144',\n",
       "   '851089947817906177',\n",
       "   '851090004646481922'],\n",
       "  'stats': {'is_unlikely': 1,\n",
       "   'likelihood': 0.99997407097566393,\n",
       "   'prior_alpha': 1e-05,\n",
       "   'prior_beta': 1,\n",
       "   'total_posts': 228}},\n",
       " 'palmsunday': {'similar_ids': [Row(oid='58ea4d53d645272bcbbeade8'),\n",
       "   Row(oid='58ea4da7d645272bcbbeaf68'),\n",
       "   Row(oid='58ea4dd3d645272bcbbeb04b'),\n",
       "   Row(oid='58ea4e4bd645272bcbbeb212'),\n",
       "   Row(oid='58ea4e6dd645272bcbbeb29b'),\n",
       "   Row(oid='58ea4eaed645272bcbbeb36c'),\n",
       "   Row(oid='58ea4ed6d645272bcbbeb409'),\n",
       "   Row(oid='58ea4ee7d645272bcbbeb465'),\n",
       "   Row(oid='58ea4ef4d645272bcbbeb490'),\n",
       "   Row(oid='58ea4f71d645272bcbbeb6dd')],\n",
       "  'similar_post_ids': ['851088256687120385',\n",
       "   '851088609142861825',\n",
       "   '851088793037885440',\n",
       "   '851089293980422148',\n",
       "   '851089439879184384',\n",
       "   '851089711854751744',\n",
       "   '851089879437946880',\n",
       "   '851089947817906177',\n",
       "   '851090004646481922',\n",
       "   '851090527902724096'],\n",
       "  'stats': {'is_unlikely': 1,\n",
       "   'likelihood': 0.99997407097566393,\n",
       "   'prior_alpha': 1e-05,\n",
       "   'prior_beta': 1,\n",
       "   'total_posts': 228}}}"
      ]
     },
     "execution_count": 43,
     "metadata": {},
     "output_type": "execute_result"
    }
   ],
   "source": [
    "r.first()"
   ]
  },
  {
   "cell_type": "markdown",
   "metadata": {},
   "source": [
    "# Use Spark SQL instead"
   ]
  },
  {
   "cell_type": "code",
   "execution_count": 382,
   "metadata": {},
   "outputs": [
    {
     "name": "stdout",
     "output_type": "stream",
     "text": [
      "+--------------------+----+------------------+----------------+\n",
      "|                 _id|lang|           post_id|            term|\n",
      "+--------------------+----+------------------+----------------+\n",
      "|58ea51fed645272bc...|  en|851093268754554881|         Lunchrm|\n",
      "|58ea51fed645272bc...|  en|851093268754554881|             MSF|\n",
      "|58ea51fed645272bc...|  en|851093268754554881|     Leveluplife|\n",
      "|58ea5204d645272bc...|  en|851093291034701825|KathradaMemorial|\n",
      "|58ea5204d645272bc...|  en|851093290804027396|      PalmSunday|\n",
      "|58ea5204d645272bc...|  en|851093290804027396|           AMJOY|\n",
      "|58ea5204d645272bc...|  en|851093290804027396|        Egyptian|\n",
      "|58ea5204d645272bc...|  en|851093291454038017|      StanleyCup|\n",
      "|58ea5207d645272bc...|  en|851093306700419075|             김준수|\n",
      "|58ea5207d645272bc...|  en|851093306700419075|             XIA|\n",
      "+--------------------+----+------------------+----------------+\n",
      "only showing top 10 rows\n",
      "\n"
     ]
    }
   ],
   "source": [
    "# one row for each hashtag in smposts\n",
    "df1 = df.select(col('_id.oid').alias('_id'), \n",
    "                'lang', \n",
    "                'post_id', \n",
    "                explode(df['hashtags']).alias('term'))\n",
    "df1.show(10)"
   ]
  },
  {
   "cell_type": "code",
   "execution_count": 383,
   "metadata": {
    "scrolled": true
   },
   "outputs": [
    {
     "name": "stdout",
     "output_type": "stream",
     "text": [
      "+--------------------+--------------------+--------------------+\n",
      "|               lterm|    similar_post_ids|         similar_ids|\n",
      "+--------------------+--------------------+--------------------+\n",
      "|educrisisconverntion|[851095206732734465]|[58ea53ccd645272b...|\n",
      "|               assad|[851094449887232000]|[58ea5318d645272b...|\n",
      "|           australia|[851094146932555776]|[58ea52d0d645272b...|\n",
      "|           stockholm|[8510939917561036...|[58ea52abd645272b...|\n",
      "|    islamicterrorism|[851095389457580034]|[58ea53f8d645272b...|\n",
      "|          milesdavis|[851095728005033984]|[58ea5449d645272b...|\n",
      "|       photoshooting|[851095480218071042]|[58ea540dd645272b...|\n",
      "|                 rss|[851095271442460679]|[58ea53dcd645272b...|\n",
      "|            arras100|[851094392266006530]|[58ea530ad645272b...|\n",
      "| chfilsummerroadtour|[851093908142473216]|[58ea5297d645272b...|\n",
      "|       stagepresence|[851093792841224196]|[58ea527bd645272b...|\n",
      "|                army|[851094187210661889]|[58ea52d9d645272b...|\n",
      "|              erotic|[851095480218071042]|[58ea540dd645272b...|\n",
      "|                 msf|[851093268754554881]|[58ea51fed645272b...|\n",
      "|          otodogbame|[8510954510131404...|[58ea5407d645272b...|\n",
      "|            soldiers|[8510953136623247...|[58ea53e6d645272b...|\n",
      "|              tourdj|[851095529949986816]|[58ea5419d645272b...|\n",
      "|                  us|[8510952108389580...|[58ea5318d645272b...|\n",
      "|        zumamustfall|[851094692053872640]|[58ea5352d645272b...|\n",
      "|                  役者|[851094856659161089]|[58ea5379d645272b...|\n",
      "|               bamfi|[851095709650743297]|[58ea5444d645272b...|\n",
      "|               crime|[851093982587256832]|[58ea52a8d645272b...|\n",
      "|                sufi|[851093780723888129]|[58ea5278d645272b...|\n",
      "|         sundayreads|[851094819535548416]|[58ea5370d645272b...|\n",
      "|baahubali2tamilau...|[8510956403147120...|[58ea537ad645272b...|\n",
      "|             college|[851095362676731904]|[58ea53f2d645272b...|\n",
      "|                iraq|[8510943824639180...|[58ea5261d645272b...|\n",
      "|              nj1015|[851094984170274816]|[58ea5397d645272b...|\n",
      "|             wailuku|[851094012211671040]|[58ea52afd645272b...|\n",
      "|   tweetitupthursday|[851095374307741697]|[58ea53f4d645272b...|\n",
      "|             finance|[851093906490109952]|[58ea5296d645272b...|\n",
      "|      smartlubaoibmf|[851094106986078208]|[58ea52c6d645272b...|\n",
      "|       aceuvalvagyok|[851093387688202240]|[58ea521bd645272b...|\n",
      "|                mufc|[8510957369892085...|[58ea544bd645272b...|\n",
      "|       dolediktatura|[851095213305192448]|[58ea53cfd645272b...|\n",
      "|            ferguson|[851094700379516928]|[58ea5354d645272b...|\n",
      "|             thelist|[851094650526072837]|[58ea5348d645272b...|\n",
      "|           mortgages|[851094872014675968]|[58ea537dd645272b...|\n",
      "|             albania|[851095458512592897]|[58ea5408d645272b...|\n",
      "|             ers2017|[851095526338510848]|[58ea5418d645272b...|\n",
      "|          oceanbeach|[851094764996800513]|[58ea5363d645272b...|\n",
      "|          southsudan|[8510952949934202...|[58ea5417d645272b...|\n",
      "|                 new|[851094152292868097]|[58ea52d1d645272b...|\n",
      "|           windpower|[851094974145978368]|[58ea5395d645272b...|\n",
      "|           getatable|[851094914490355712]|[58ea5387d645272b...|\n",
      "|       rockgurlworld|[851095529949986816]|[58ea5419d645272b...|\n",
      "|             startup|[8510948877097615...|[58ea544bd645272b...|\n",
      "|                ikon|[851093498396893185]|[58ea5235d645272b...|\n",
      "|             toronto|[851094748576305152]|[58ea5360d645272b...|\n",
      "|          coastguard|[851094187210661889]|[58ea52d9d645272b...|\n",
      "|               trump|[851095401872711682]|[58ea53fbd645272b...|\n",
      "|   talkleftwalkright|[851095622245593089]|[58ea5430d645272b...|\n",
      "|          yogisarkar|[851094677725958144]|[58ea534ed645272b...|\n",
      "|             parents|[8510938455090585...|[58ea5288d645272b...|\n",
      "|            sideboob|[851095280909000704]|[58ea53ded645272b...|\n",
      "|             economy|[851094941107453952]|[58ea538dd645272b...|\n",
      "|             ntvnews|[851095617489313793]|[58ea542ed645272b...|\n",
      "|          soundcloud|[8510941538532720...|[58ea522ed645272b...|\n",
      "|       interventions|[851095362676731904]|[58ea53f2d645272b...|\n",
      "|           outlander|[8510956286797004...|[58ea53a9d645272b...|\n",
      "|      syriagasattack|[851093365433217025]|[58ea5215d645272b...|\n",
      "|                 can|[851093999175729154]|[58ea52acd645272b...|\n",
      "|             kashmir|[8510951006461419...|[58ea53b3d645272b...|\n",
      "|                news|[8510942218598154...|[58ea53bbd645272b...|\n",
      "|                  rt|[851093485142904832]|[58ea5232d645272b...|\n",
      "|               iraqi|[8510953136623247...|[58ea53e6d645272b...|\n",
      "|              rwanda|[8510952949934202...|[58ea5417d645272b...|\n",
      "|     baltimorepolice|[851095282381148161]|[58ea53ded645272b...|\n",
      "|              beauty|[851094197910351872]|[58ea52dcd645272b...|\n",
      "|     tripofalifetime|[851094299903229952]|[58ea52f5d645272b...|\n",
      "|                  作曲|[851094856659161089]|[58ea5379d645272b...|\n",
      "|          junksilver|[851095210838958080]|[58ea53cdd645272b...|\n",
      "|              ottawa|[851094147184197632]|[58ea52d0d645272b...|\n",
      "|   saynotograssfires|[851095701819977728]|[58ea5442d645272b...|\n",
      "|               tanta|[851093780723888129]|[58ea5278d645272b...|\n",
      "|            trucking|[851094941107453952]|[58ea538dd645272b...|\n",
      "|               amjoy|[8510937558892953...|[58ea534cd645272b...|\n",
      "|            giveaway|[851093999175729154]|[58ea52acd645272b...|\n",
      "|               josie|[851095280909000704]|[58ea53ded645272b...|\n",
      "|           sdhunting|[851094392937033728]|[58ea530ad645272b...|\n",
      "|         electornics|[851094914490355712]|[58ea5387d645272b...|\n",
      "|                  d9|[851093925251215360]|[58ea529bd645272b...|\n",
      "|              evelei|[851095704764260352]|[58ea5443d645272b...|\n",
      "| popularmusicconcert|[851094732822413315]|[58ea535bd645272b...|\n",
      "|           terrorism|[8510938400858644...|[58ea52f8d645272b...|\n",
      "|               abc15|[851093755558060032]|[58ea5272d645272b...|\n",
      "|       sundaymorning|[8510952076554854...|[58ea53cdd645272b...|\n",
      "|   chrishanimemorial|[851094223432667136]|[58ea52e2d645272b...|\n",
      "|            amicusap|[851095389726023680]|[58ea53f8d645272b...|\n",
      "|                 dol|[8510957138826608...|[58ea5445d645272b...|\n",
      "|        sanfrancisco|[851095378384404482]|[58ea53f5d645272b...|\n",
      "|theywanttheircove...|[851095540129550338]|[58ea541cd645272b...|\n",
      "|         médicaments|[851094546125664256]|[58ea532fd645272b...|\n",
      "|              sotrue|[851093860835110912]|[58ea528bd645272b...|\n",
      "|                 afd|[851095282007904258]|[58ea53ded645272b...|\n",
      "|               coins|[851095210838958080]|[58ea53cdd645272b...|\n",
      "|      freethesheeple|[8510954880402800...|[58ea541ed645272b...|\n",
      "|                  mc|[851094856659161089]|[58ea5379d645272b...|\n",
      "|       siphezikalala|[851095622245593089]|[58ea5430d645272b...|\n",
      "|stockholmterrorat...|[8510939786782760...|[58ea5260d645272b...|\n",
      "+--------------------+--------------------+--------------------+\n",
      "only showing top 100 rows\n",
      "\n"
     ]
    }
   ],
   "source": [
    "# collect post_ids, _ids for each term \n",
    "df2 = df1\\\n",
    "    .groupBy(lower(df1['term']).alias('lterm'))\\\n",
    "    .agg(collect_set('post_id').alias('similar_post_ids'),\n",
    "        collect_set('_id').alias('similar_ids'))\n",
    "\n",
    "df2.show(100)"
   ]
  },
  {
   "cell_type": "code",
   "execution_count": 384,
   "metadata": {},
   "outputs": [
    {
     "data": {
      "text/plain": [
       "DataFrame[lterm: string, similar_post_ids: array<string>, similar_ids: array<string>]"
      ]
     },
     "execution_count": 384,
     "metadata": {},
     "output_type": "execute_result"
    }
   ],
   "source": [
    "df2"
   ]
  },
  {
   "cell_type": "code",
   "execution_count": 385,
   "metadata": {
    "scrolled": false
   },
   "outputs": [
    {
     "name": "stdout",
     "output_type": "stream",
     "text": [
      "+--------------------+---------------+--------------+\n",
      "|               lterm|pr_sim_post_ids|pr_posts_count|\n",
      "+--------------------+---------------+--------------+\n",
      "|educrisisconverntion|           null|          null|\n",
      "|               assad|           null|          null|\n",
      "|           australia|           null|          null|\n",
      "|           stockholm|           null|          null|\n",
      "|    islamicterrorism|           null|          null|\n",
      "|          milesdavis|           null|          null|\n",
      "|       photoshooting|           null|          null|\n",
      "|                 rss|           null|          null|\n",
      "|            arras100|           null|          null|\n",
      "| chfilsummerroadtour|           null|          null|\n",
      "+--------------------+---------------+--------------+\n",
      "only showing top 10 rows\n",
      "\n",
      "+----------+--------------------+--------------+\n",
      "|     lterm|     pr_sim_post_ids|pr_posts_count|\n",
      "+----------+--------------------+--------------+\n",
      "|  egyptian|[8510882566871203...|           273|\n",
      "|  egyptian|[8510910712370585...|           288|\n",
      "|palmsunday|[8510882566871203...|           273|\n",
      "+----------+--------------------+--------------+\n",
      "\n"
     ]
    }
   ],
   "source": [
    "# join hashtag->posts with postsclusters on term\n",
    "df3 = df2.join(pr_df, df2['lterm'] == pr_df['term'], 'left_outer')\\\n",
    ".select('lterm', \n",
    "        pr_df['similar_post_ids'].alias('pr_sim_post_ids'), \n",
    "        col('stats.total_posts').alias('pr_posts_count'))\n",
    "\n",
    "df3.show(10)\n",
    "\n",
    "df3.where(df3['pr_posts_count'] > 0).show()"
   ]
  },
  {
   "cell_type": "code",
   "execution_count": 389,
   "metadata": {},
   "outputs": [
    {
     "name": "stdout",
     "output_type": "stream",
     "text": [
      "+-------------+--------------+------------------+\n",
      "|        lterm|pr_posts_count|pr_sim_posts_count|\n",
      "+-------------+--------------+------------------+\n",
      "| 13reasonswhy|             0|                -1|\n",
      "|    17century|             0|                -1|\n",
      "|         1mdb|             0|                -1|\n",
      "|      aag2017|             0|                -1|\n",
      "|        abc15|             0|                -1|\n",
      "|aceuvalvagyok|             0|                -1|\n",
      "|        actor|             0|                -1|\n",
      "|    actualite|             0|                -1|\n",
      "|          afd|             0|                -1|\n",
      "|     airforce|             0|                -1|\n",
      "+-------------+--------------+------------------+\n",
      "only showing top 10 rows\n",
      "\n"
     ]
    }
   ],
   "source": [
    "# term -> count priors posts\n",
    "df4 = df3.select('lterm', \n",
    "                 col('pr_posts_count').cast(IntegerType()), \n",
    "                 size('pr_sim_post_ids').alias('pr_sim_posts_count'))\\\n",
    "    .na.fill(0)\n",
    "    \n",
    "df4.sort('lterm').show(10)"
   ]
  },
  {
   "cell_type": "code",
   "execution_count": 390,
   "metadata": {},
   "outputs": [
    {
     "name": "stdout",
     "output_type": "stream",
     "text": [
      "+--------------------+-------------------+-----------------------+\n",
      "|               lterm|sum(pr_posts_count)|sum(pr_sim_posts_count)|\n",
      "+--------------------+-------------------+-----------------------+\n",
      "|educrisisconverntion|                  0|                     -1|\n",
      "|               assad|                  0|                     -1|\n",
      "|           australia|                  0|                     -1|\n",
      "|           stockholm|                  0|                     -1|\n",
      "|    islamicterrorism|                  0|                     -1|\n",
      "|          milesdavis|                  0|                     -1|\n",
      "|       photoshooting|                  0|                     -1|\n",
      "|                 rss|                  0|                     -1|\n",
      "|            arras100|                  0|                     -1|\n",
      "| chfilsummerroadtour|                  0|                     -1|\n",
      "|       stagepresence|                  0|                     -1|\n",
      "|                army|                  0|                     -1|\n",
      "|              erotic|                  0|                     -1|\n",
      "|                 msf|                  0|                     -1|\n",
      "|          otodogbame|                  0|                     -1|\n",
      "|            soldiers|                  0|                     -1|\n",
      "|              tourdj|                  0|                     -1|\n",
      "|                  us|                  0|                     -1|\n",
      "|        zumamustfall|                  0|                     -1|\n",
      "|                  役者|                  0|                     -1|\n",
      "+--------------------+-------------------+-----------------------+\n",
      "only showing top 20 rows\n",
      "\n"
     ]
    }
   ],
   "source": [
    "# term -> priors counts\n",
    "df5 = df4.groupBy('lterm').sum('pr_posts_count', 'pr_sim_posts_count')\n",
    "df5.show()"
   ]
  },
  {
   "cell_type": "code",
   "execution_count": 391,
   "metadata": {},
   "outputs": [
    {
     "name": "stdout",
     "output_type": "stream",
     "text": [
      "+-------------------+-----------------------+--------------------+--------------------+--------------------+----------------+\n",
      "|sum(pr_posts_count)|sum(pr_sim_posts_count)|               lterm|    similar_post_ids|         similar_ids|curr_posts_count|\n",
      "+-------------------+-----------------------+--------------------+--------------------+--------------------+----------------+\n",
      "|                  0|                     -1|educrisisconverntion|[851095206732734465]|[58ea53ccd645272b...|             316|\n",
      "|                  0|                     -1|               assad|[851094449887232000]|[58ea5318d645272b...|             316|\n",
      "|                  0|                     -1|           australia|[851094146932555776]|[58ea52d0d645272b...|             316|\n",
      "|                  0|                     -1|           stockholm|[8510939917561036...|[58ea52abd645272b...|             316|\n",
      "|                  0|                     -1|    islamicterrorism|[851095389457580034]|[58ea53f8d645272b...|             316|\n",
      "|                  0|                     -1|          milesdavis|[851095728005033984]|[58ea5449d645272b...|             316|\n",
      "|                  0|                     -1|       photoshooting|[851095480218071042]|[58ea540dd645272b...|             316|\n",
      "|                  0|                     -1|                 rss|[851095271442460679]|[58ea53dcd645272b...|             316|\n",
      "|                  0|                     -1|            arras100|[851094392266006530]|[58ea530ad645272b...|             316|\n",
      "|                  0|                     -1| chfilsummerroadtour|[851093908142473216]|[58ea5297d645272b...|             316|\n",
      "+-------------------+-----------------------+--------------------+--------------------+--------------------+----------------+\n",
      "only showing top 10 rows\n",
      "\n"
     ]
    }
   ],
   "source": [
    "# join hashtag->posts with priors counts\n",
    "df6 = df5\\\n",
    ".join(df2, df5['lterm'] == df2['lterm'], 'left_outer')\\\n",
    ".withColumn('curr_posts_count', lit(df.count()))\\\n",
    ".drop(df5['lterm'])\n",
    "\n",
    "df6.show(10)"
   ]
  },
  {
   "cell_type": "code",
   "execution_count": 392,
   "metadata": {},
   "outputs": [
    {
     "name": "stdout",
     "output_type": "stream",
     "text": [
      "+-------------------+-----------------------+--------------------+--------------------+--------------------+----------------+--------------------+\n",
      "|sum(pr_posts_count)|sum(pr_sim_posts_count)|               lterm|    similar_post_ids|         similar_ids|curr_posts_count|curr_sim_posts_count|\n",
      "+-------------------+-----------------------+--------------------+--------------------+--------------------+----------------+--------------------+\n",
      "|                  0|                     -1|educrisisconverntion|[851095206732734465]|[58ea53ccd645272b...|             316|                   1|\n",
      "|                  0|                     -1|               assad|[851094449887232000]|[58ea5318d645272b...|             316|                   1|\n",
      "|                  0|                     -1|           australia|[851094146932555776]|[58ea52d0d645272b...|             316|                   1|\n",
      "|                  0|                     -1|           stockholm|[8510939917561036...|[58ea52abd645272b...|             316|                   2|\n",
      "|                  0|                     -1|    islamicterrorism|[851095389457580034]|[58ea53f8d645272b...|             316|                   1|\n",
      "|                  0|                     -1|          milesdavis|[851095728005033984]|[58ea5449d645272b...|             316|                   1|\n",
      "|                  0|                     -1|       photoshooting|[851095480218071042]|[58ea540dd645272b...|             316|                   1|\n",
      "|                  0|                     -1|                 rss|[851095271442460679]|[58ea53dcd645272b...|             316|                   1|\n",
      "|                  0|                     -1|            arras100|[851094392266006530]|[58ea530ad645272b...|             316|                   1|\n",
      "|                  0|                     -1| chfilsummerroadtour|[851093908142473216]|[58ea5297d645272b...|             316|                   1|\n",
      "+-------------------+-----------------------+--------------------+--------------------+--------------------+----------------+--------------------+\n",
      "only showing top 10 rows\n",
      "\n"
     ]
    }
   ],
   "source": [
    "# count curr sim posts\n",
    "df61 = df6.withColumn('curr_sim_posts_count', size(df6['similar_post_ids']))\n",
    "df61.show(10)"
   ]
  },
  {
   "cell_type": "code",
   "execution_count": 393,
   "metadata": {},
   "outputs": [
    {
     "name": "stdout",
     "output_type": "stream",
     "text": [
      "+-------------------+-----------------------+--------------------+--------------------+--------------------+----------------+--------------------+--------------------+\n",
      "|sum(pr_posts_count)|sum(pr_sim_posts_count)|               lterm|    similar_post_ids|         similar_ids|curr_posts_count|curr_sim_posts_count|                 lam|\n",
      "+-------------------+-----------------------+--------------------+--------------------+--------------------+----------------+--------------------+--------------------+\n",
      "|                  0|                     -1|educrisisconverntion|[851095206732734465]|[58ea53ccd645272b...|             316|                   1|0.003164556962025...|\n",
      "|                  0|                     -1|               assad|[851094449887232000]|[58ea5318d645272b...|             316|                   1|0.003164556962025...|\n",
      "|                  0|                     -1|           australia|[851094146932555776]|[58ea52d0d645272b...|             316|                   1|0.003164556962025...|\n",
      "|                  0|                     -1|           stockholm|[8510939917561036...|[58ea52abd645272b...|             316|                   2|0.006329113924050633|\n",
      "|                  0|                     -1|    islamicterrorism|[851095389457580034]|[58ea53f8d645272b...|             316|                   1|0.003164556962025...|\n",
      "|                  0|                     -1|          milesdavis|[851095728005033984]|[58ea5449d645272b...|             316|                   1|0.003164556962025...|\n",
      "|                  0|                     -1|       photoshooting|[851095480218071042]|[58ea540dd645272b...|             316|                   1|0.003164556962025...|\n",
      "|                  0|                     -1|                 rss|[851095271442460679]|[58ea53dcd645272b...|             316|                   1|0.003164556962025...|\n",
      "|                  0|                     -1|            arras100|[851094392266006530]|[58ea530ad645272b...|             316|                   1|0.003164556962025...|\n",
      "|                  0|                     -1| chfilsummerroadtour|[851093908142473216]|[58ea5297d645272b...|             316|                   1|0.003164556962025...|\n",
      "|                  0|                     -1|       stagepresence|[851093792841224196]|[58ea527bd645272b...|             316|                   1|0.003164556962025...|\n",
      "|                  0|                     -1|                army|[851094187210661889]|[58ea52d9d645272b...|             316|                   1|0.003164556962025...|\n",
      "|                  0|                     -1|              erotic|[851095480218071042]|[58ea540dd645272b...|             316|                   1|0.003164556962025...|\n",
      "|                  0|                     -1|                 msf|[851093268754554881]|[58ea51fed645272b...|             316|                   1|0.003164556962025...|\n",
      "|                  0|                     -1|          otodogbame|[8510954510131404...|[58ea5407d645272b...|             316|                   8| 0.02531645569620253|\n",
      "|                  0|                     -1|            soldiers|[8510953136623247...|[58ea53e6d645272b...|             316|                   2|0.006329113924050633|\n",
      "|                  0|                     -1|              tourdj|[851095529949986816]|[58ea5419d645272b...|             316|                   1|0.003164556962025...|\n",
      "|                  0|                     -1|                  us|[8510952108389580...|[58ea5318d645272b...|             316|                   5|0.015822784810126583|\n",
      "|                  0|                     -1|        zumamustfall|[851094692053872640]|[58ea5352d645272b...|             316|                   1|0.003164556962025...|\n",
      "|                  0|                     -1|                  役者|[851094856659161089]|[58ea5379d645272b...|             316|                   1|0.003164556962025...|\n",
      "+-------------------+-----------------------+--------------------+--------------------+--------------------+----------------+--------------------+--------------------+\n",
      "only showing top 20 rows\n",
      "\n"
     ]
    }
   ],
   "source": [
    "# calc lam\n",
    "def lam(a, b):\n",
    "    return str(float(a)/b)\n",
    "\n",
    "u_lam = udf(lam)\n",
    "\n",
    "df62 = df61.withColumn('lam', u_lam(df61['curr_sim_posts_count'], df61['curr_posts_count']))\n",
    "df62.show()"
   ]
  },
  {
   "cell_type": "code",
   "execution_count": 394,
   "metadata": {},
   "outputs": [
    {
     "name": "stdout",
     "output_type": "stream",
     "text": [
      "+-------------------+-----------------------+--------------------+--------------------+--------------------+----------------+--------------------+--------------------+----------+\n",
      "|sum(pr_posts_count)|sum(pr_sim_posts_count)|               lterm|    similar_post_ids|         similar_ids|curr_posts_count|curr_sim_posts_count|                 lam|likelihood|\n",
      "+-------------------+-----------------------+--------------------+--------------------+--------------------+----------------+--------------------+--------------------+----------+\n",
      "|                  0|                     -1|educrisisconverntion|[851095206732734465]|[58ea53ccd645272b...|             316|                   1|0.003164556962025...|       0.0|\n",
      "|                  0|                     -1|               assad|[851094449887232000]|[58ea5318d645272b...|             316|                   1|0.003164556962025...|       0.0|\n",
      "|                  0|                     -1|           australia|[851094146932555776]|[58ea52d0d645272b...|             316|                   1|0.003164556962025...|       0.0|\n",
      "|                  0|                     -1|           stockholm|[8510939917561036...|[58ea52abd645272b...|             316|                   2|0.006329113924050633|       0.0|\n",
      "|                  0|                     -1|    islamicterrorism|[851095389457580034]|[58ea53f8d645272b...|             316|                   1|0.003164556962025...|       0.0|\n",
      "|                  0|                     -1|          milesdavis|[851095728005033984]|[58ea5449d645272b...|             316|                   1|0.003164556962025...|       0.0|\n",
      "|                  0|                     -1|       photoshooting|[851095480218071042]|[58ea540dd645272b...|             316|                   1|0.003164556962025...|       0.0|\n",
      "|                  0|                     -1|                 rss|[851095271442460679]|[58ea53dcd645272b...|             316|                   1|0.003164556962025...|       0.0|\n",
      "|                  0|                     -1|            arras100|[851094392266006530]|[58ea530ad645272b...|             316|                   1|0.003164556962025...|       0.0|\n",
      "|                  0|                     -1| chfilsummerroadtour|[851093908142473216]|[58ea5297d645272b...|             316|                   1|0.003164556962025...|       0.0|\n",
      "|                  0|                     -1|       stagepresence|[851093792841224196]|[58ea527bd645272b...|             316|                   1|0.003164556962025...|       0.0|\n",
      "|                  0|                     -1|                army|[851094187210661889]|[58ea52d9d645272b...|             316|                   1|0.003164556962025...|       0.0|\n",
      "|                  0|                     -1|              erotic|[851095480218071042]|[58ea540dd645272b...|             316|                   1|0.003164556962025...|       0.0|\n",
      "|                  0|                     -1|                 msf|[851093268754554881]|[58ea51fed645272b...|             316|                   1|0.003164556962025...|       0.0|\n",
      "|                  0|                     -1|          otodogbame|[8510954510131404...|[58ea5407d645272b...|             316|                   8| 0.02531645569620253|       0.0|\n",
      "|                  0|                     -1|            soldiers|[8510953136623247...|[58ea53e6d645272b...|             316|                   2|0.006329113924050633|       0.0|\n",
      "|                  0|                     -1|              tourdj|[851095529949986816]|[58ea5419d645272b...|             316|                   1|0.003164556962025...|       0.0|\n",
      "|                  0|                     -1|                  us|[8510952108389580...|[58ea5318d645272b...|             316|                   5|0.015822784810126583|       0.0|\n",
      "|                  0|                     -1|        zumamustfall|[851094692053872640]|[58ea5352d645272b...|             316|                   1|0.003164556962025...|       0.0|\n",
      "|                  0|                     -1|                  役者|[851094856659161089]|[58ea5379d645272b...|             316|                   1|0.003164556962025...|       0.0|\n",
      "+-------------------+-----------------------+--------------------+--------------------+--------------------+----------------+--------------------+--------------------+----------+\n",
      "only showing top 20 rows\n",
      "\n"
     ]
    }
   ],
   "source": [
    "# calc likelihood scores. wrapper for gdtr scipy func.\n",
    "def likelihood(a, b, c):\n",
    "    # edge case: no previous posts (prob on 1st clustering run in system)\n",
    "    if a is None:\n",
    "        return '1'\n",
    "    print(a, b, c)\n",
    "    out = gdtr(a, b, float(c))\n",
    "    # stringify numpy output for pickling\n",
    "    return str(out)\n",
    "    \n",
    "u_likelihood = udf(likelihood)\n",
    "\n",
    "df7 = df62\\\n",
    ".withColumn('likelihood', u_likelihood(df62['sum(pr_posts_count)'], \n",
    "                                       df62['sum(pr_sim_posts_count)'], \n",
    "                                       df62['lam']))\n",
    "\n",
    "df7.show()"
   ]
  },
  {
   "cell_type": "code",
   "execution_count": 395,
   "metadata": {},
   "outputs": [
    {
     "name": "stdout",
     "output_type": "stream",
     "text": [
      "+-------------------+-----------------------+--------------------+--------------------+--------------------+----------------+--------------------+--------------------+----------+-----------+\n",
      "|sum(pr_posts_count)|sum(pr_sim_posts_count)|               lterm|    similar_post_ids|         similar_ids|curr_posts_count|curr_sim_posts_count|                 lam|likelihood|is_unlikely|\n",
      "+-------------------+-----------------------+--------------------+--------------------+--------------------+----------------+--------------------+--------------------+----------+-----------+\n",
      "|                  0|                     -1|educrisisconverntion|[851095206732734465]|[58ea53ccd645272b...|             316|                   1|0.003164556962025...|       0.0|          0|\n",
      "|                  0|                     -1|               assad|[851094449887232000]|[58ea5318d645272b...|             316|                   1|0.003164556962025...|       0.0|          0|\n",
      "|                  0|                     -1|           australia|[851094146932555776]|[58ea52d0d645272b...|             316|                   1|0.003164556962025...|       0.0|          0|\n",
      "|                  0|                     -1|           stockholm|[8510939917561036...|[58ea52abd645272b...|             316|                   2|0.006329113924050633|       0.0|          0|\n",
      "|                  0|                     -1|    islamicterrorism|[851095389457580034]|[58ea53f8d645272b...|             316|                   1|0.003164556962025...|       0.0|          0|\n",
      "|                  0|                     -1|          milesdavis|[851095728005033984]|[58ea5449d645272b...|             316|                   1|0.003164556962025...|       0.0|          0|\n",
      "|                  0|                     -1|       photoshooting|[851095480218071042]|[58ea540dd645272b...|             316|                   1|0.003164556962025...|       0.0|          0|\n",
      "|                  0|                     -1|                 rss|[851095271442460679]|[58ea53dcd645272b...|             316|                   1|0.003164556962025...|       0.0|          0|\n",
      "|                  0|                     -1|            arras100|[851094392266006530]|[58ea530ad645272b...|             316|                   1|0.003164556962025...|       0.0|          0|\n",
      "|                  0|                     -1| chfilsummerroadtour|[851093908142473216]|[58ea5297d645272b...|             316|                   1|0.003164556962025...|       0.0|          0|\n",
      "+-------------------+-----------------------+--------------------+--------------------+--------------------+----------------+--------------------+--------------------+----------+-----------+\n",
      "only showing top 10 rows\n",
      "\n"
     ]
    }
   ],
   "source": [
    "# unlikely?\n",
    "def unlikely(v):\n",
    "    if float(v) > threshold:\n",
    "        return 1\n",
    "    else:\n",
    "        return 0\n",
    "u_unlikely = udf(unlikely)\n",
    "\n",
    "df8 = df7\\\n",
    ".withColumn('is_unlikely', u_unlikely(df7['likelihood']))\n",
    "\n",
    "df8.show(10)"
   ]
  },
  {
   "cell_type": "code",
   "execution_count": 396,
   "metadata": {},
   "outputs": [
    {
     "name": "stdout",
     "output_type": "stream",
     "text": [
      "+-------------------+-----------------------+--------------------+--------------------+--------------------+----------------+--------------------+--------------------+----------+-----------+\n",
      "|sum(pr_posts_count)|sum(pr_sim_posts_count)|               lterm|    similar_post_ids|         similar_ids|curr_posts_count|curr_sim_posts_count|                 lam|likelihood|is_unlikely|\n",
      "+-------------------+-----------------------+--------------------+--------------------+--------------------+----------------+--------------------+--------------------+----------+-----------+\n",
      "|                  0|                     -1|educrisisconverntion|[851095206732734465]|[58ea53ccd645272b...|             316|                   1|0.003164556962025...|       0.0|          0|\n",
      "|                  0|                     -1|               assad|[851094449887232000]|[58ea5318d645272b...|             316|                   1|0.003164556962025...|       0.0|          0|\n",
      "|                  0|                     -1|           australia|[851094146932555776]|[58ea52d0d645272b...|             316|                   1|0.003164556962025...|       0.0|          0|\n",
      "|                  0|                     -1|           stockholm|[8510939917561036...|[58ea52abd645272b...|             316|                   2|0.006329113924050633|       0.0|          0|\n",
      "|                  0|                     -1|    islamicterrorism|[851095389457580034]|[58ea53f8d645272b...|             316|                   1|0.003164556962025...|       0.0|          0|\n",
      "|                  0|                     -1|          milesdavis|[851095728005033984]|[58ea5449d645272b...|             316|                   1|0.003164556962025...|       0.0|          0|\n",
      "|                  0|                     -1|       photoshooting|[851095480218071042]|[58ea540dd645272b...|             316|                   1|0.003164556962025...|       0.0|          0|\n",
      "|                  0|                     -1|                 rss|[851095271442460679]|[58ea53dcd645272b...|             316|                   1|0.003164556962025...|       0.0|          0|\n",
      "|                  0|                     -1|            arras100|[851094392266006530]|[58ea530ad645272b...|             316|                   1|0.003164556962025...|       0.0|          0|\n",
      "|                  0|                     -1| chfilsummerroadtour|[851093908142473216]|[58ea5297d645272b...|             316|                   1|0.003164556962025...|       0.0|          0|\n",
      "|                  0|                     -1|       stagepresence|[851093792841224196]|[58ea527bd645272b...|             316|                   1|0.003164556962025...|       0.0|          0|\n",
      "|                  0|                     -1|                army|[851094187210661889]|[58ea52d9d645272b...|             316|                   1|0.003164556962025...|       0.0|          0|\n",
      "|                  0|                     -1|              erotic|[851095480218071042]|[58ea540dd645272b...|             316|                   1|0.003164556962025...|       0.0|          0|\n",
      "|                  0|                     -1|                 msf|[851093268754554881]|[58ea51fed645272b...|             316|                   1|0.003164556962025...|       0.0|          0|\n",
      "|                  0|                     -1|          otodogbame|[8510954510131404...|[58ea5407d645272b...|             316|                   8| 0.02531645569620253|       0.0|          0|\n",
      "|                  0|                     -1|            soldiers|[8510953136623247...|[58ea53e6d645272b...|             316|                   2|0.006329113924050633|       0.0|          0|\n",
      "|                  0|                     -1|              tourdj|[851095529949986816]|[58ea5419d645272b...|             316|                   1|0.003164556962025...|       0.0|          0|\n",
      "|                  0|                     -1|                  us|[8510952108389580...|[58ea5318d645272b...|             316|                   5|0.015822784810126583|       0.0|          0|\n",
      "|                  0|                     -1|        zumamustfall|[851094692053872640]|[58ea5352d645272b...|             316|                   1|0.003164556962025...|       0.0|          0|\n",
      "|                  0|                     -1|                  役者|[851094856659161089]|[58ea5379d645272b...|             316|                   1|0.003164556962025...|       0.0|          0|\n",
      "+-------------------+-----------------------+--------------------+--------------------+--------------------+----------------+--------------------+--------------------+----------+-----------+\n",
      "only showing top 20 rows\n",
      "\n"
     ]
    }
   ],
   "source": [
    "df8.where(df8['is_unlikely']!='1').show()\n"
   ]
  },
  {
   "cell_type": "code",
   "execution_count": 397,
   "metadata": {},
   "outputs": [
    {
     "name": "stdout",
     "output_type": "stream",
     "text": [
      "{'prior_alpha': '-1', 'likelihood': '0.0', 'total_posts': '316', 'prior_beta': '0', 'is_unlikely': '0'}\n",
      "+-------------------+-----------------------+--------------------+--------------------+--------------------+----------------+--------------------+--------------------+----------+-----------+--------------------+\n",
      "|sum(pr_posts_count)|sum(pr_sim_posts_count)|               lterm|    similar_post_ids|         similar_ids|curr_posts_count|curr_sim_posts_count|                 lam|likelihood|is_unlikely|               stats|\n",
      "+-------------------+-----------------------+--------------------+--------------------+--------------------+----------------+--------------------+--------------------+----------+-----------+--------------------+\n",
      "|                  0|                     -1|educrisisconverntion|[851095206732734465]|[58ea53ccd645272b...|             316|                   1|0.003164556962025...|       0.0|          0|Map(likelihood ->...|\n",
      "|                  0|                     -1|               assad|[851094449887232000]|[58ea5318d645272b...|             316|                   1|0.003164556962025...|       0.0|          0|Map(likelihood ->...|\n",
      "|                  0|                     -1|           australia|[851094146932555776]|[58ea52d0d645272b...|             316|                   1|0.003164556962025...|       0.0|          0|Map(likelihood ->...|\n",
      "|                  0|                     -1|           stockholm|[8510939917561036...|[58ea52abd645272b...|             316|                   2|0.006329113924050633|       0.0|          0|Map(likelihood ->...|\n",
      "|                  0|                     -1|    islamicterrorism|[851095389457580034]|[58ea53f8d645272b...|             316|                   1|0.003164556962025...|       0.0|          0|Map(likelihood ->...|\n",
      "|                  0|                     -1|          milesdavis|[851095728005033984]|[58ea5449d645272b...|             316|                   1|0.003164556962025...|       0.0|          0|Map(likelihood ->...|\n",
      "|                  0|                     -1|       photoshooting|[851095480218071042]|[58ea540dd645272b...|             316|                   1|0.003164556962025...|       0.0|          0|Map(likelihood ->...|\n",
      "|                  0|                     -1|                 rss|[851095271442460679]|[58ea53dcd645272b...|             316|                   1|0.003164556962025...|       0.0|          0|Map(likelihood ->...|\n",
      "|                  0|                     -1|            arras100|[851094392266006530]|[58ea530ad645272b...|             316|                   1|0.003164556962025...|       0.0|          0|Map(likelihood ->...|\n",
      "|                  0|                     -1| chfilsummerroadtour|[851093908142473216]|[58ea5297d645272b...|             316|                   1|0.003164556962025...|       0.0|          0|Map(likelihood ->...|\n",
      "|                  0|                     -1|       stagepresence|[851093792841224196]|[58ea527bd645272b...|             316|                   1|0.003164556962025...|       0.0|          0|Map(likelihood ->...|\n",
      "|                  0|                     -1|                army|[851094187210661889]|[58ea52d9d645272b...|             316|                   1|0.003164556962025...|       0.0|          0|Map(likelihood ->...|\n",
      "|                  0|                     -1|              erotic|[851095480218071042]|[58ea540dd645272b...|             316|                   1|0.003164556962025...|       0.0|          0|Map(likelihood ->...|\n",
      "|                  0|                     -1|                 msf|[851093268754554881]|[58ea51fed645272b...|             316|                   1|0.003164556962025...|       0.0|          0|Map(likelihood ->...|\n",
      "|                  0|                     -1|          otodogbame|[8510954510131404...|[58ea5407d645272b...|             316|                   8| 0.02531645569620253|       0.0|          0|Map(likelihood ->...|\n",
      "|                  0|                     -1|            soldiers|[8510953136623247...|[58ea53e6d645272b...|             316|                   2|0.006329113924050633|       0.0|          0|Map(likelihood ->...|\n",
      "|                  0|                     -1|              tourdj|[851095529949986816]|[58ea5419d645272b...|             316|                   1|0.003164556962025...|       0.0|          0|Map(likelihood ->...|\n",
      "|                  0|                     -1|                  us|[8510952108389580...|[58ea5318d645272b...|             316|                   5|0.015822784810126583|       0.0|          0|Map(likelihood ->...|\n",
      "|                  0|                     -1|        zumamustfall|[851094692053872640]|[58ea5352d645272b...|             316|                   1|0.003164556962025...|       0.0|          0|Map(likelihood ->...|\n",
      "|                  0|                     -1|                  役者|[851094856659161089]|[58ea5379d645272b...|             316|                   1|0.003164556962025...|       0.0|          0|Map(likelihood ->...|\n",
      "+-------------------+-----------------------+--------------------+--------------------+--------------------+----------------+--------------------+--------------------+----------+-----------+--------------------+\n",
      "only showing top 20 rows\n",
      "\n"
     ]
    }
   ],
   "source": [
    "# build stats nested object\n",
    "def get_stats(a, b, c, d, e):\n",
    "    return {'likelihood': (a), 'is_unlikely': (b), \n",
    "            'total_posts': (c), 'prior_alpha': (d), 'prior_beta': (e or 0)}\n",
    "\n",
    "# string -> string map, to play nicely with mongo. (FloatType has no matching BsonValue)\n",
    "u_get_stats = udf(get_stats, MapType(StringType(), StringType()))\n",
    "\n",
    "df9 = df8.withColumn('stats', (u_get_stats(df8['likelihood'], \n",
    "                                           df8['is_unlikely'], \n",
    "                                           df8['curr_posts_count'], \n",
    "                                           df8['sum(pr_sim_posts_count)'], \n",
    "                                           df8['sum(pr_posts_count)'])))\n",
    "print(df9.take(1)[0].stats)\n",
    "df9.show()"
   ]
  },
  {
   "cell_type": "code",
   "execution_count": 398,
   "metadata": {},
   "outputs": [
    {
     "name": "stdout",
     "output_type": "stream",
     "text": [
      "+--------------------+--------------------+--------------------+--------------------+-------------+-------------+---------+--------------------+--------------------+\n",
      "|                term|    similar_post_ids|         similar_ids|               stats|start_time_ms|  end_time_ms|data_type|             created|                 _id|\n",
      "+--------------------+--------------------+--------------------+--------------------+-------------+-------------+---------+--------------------+--------------------+\n",
      "|educrisisconverntion|[851095206732734465]|[58ea53ccd645272b...|Map(likelihood ->...|1491751418000|1491752017999|  hashtag|2017-04-21 18:56:...|4039b73e-80dc-429...|\n",
      "|               assad|[851094449887232000]|[58ea5318d645272b...|Map(likelihood ->...|1491751418000|1491752017999|  hashtag|2017-04-21 18:56:...|4039b73e-80dc-429...|\n",
      "|           australia|[851094146932555776]|[58ea52d0d645272b...|Map(likelihood ->...|1491751418000|1491752017999|  hashtag|2017-04-21 18:56:...|4039b73e-80dc-429...|\n",
      "|           stockholm|[8510939917561036...|[58ea52abd645272b...|Map(likelihood ->...|1491751418000|1491752017999|  hashtag|2017-04-21 18:56:...|4039b73e-80dc-429...|\n",
      "|    islamicterrorism|[851095389457580034]|[58ea53f8d645272b...|Map(likelihood ->...|1491751418000|1491752017999|  hashtag|2017-04-21 18:56:...|4039b73e-80dc-429...|\n",
      "|          milesdavis|[851095728005033984]|[58ea5449d645272b...|Map(likelihood ->...|1491751418000|1491752017999|  hashtag|2017-04-21 18:56:...|4039b73e-80dc-429...|\n",
      "|       photoshooting|[851095480218071042]|[58ea540dd645272b...|Map(likelihood ->...|1491751418000|1491752017999|  hashtag|2017-04-21 18:56:...|4039b73e-80dc-429...|\n",
      "|                 rss|[851095271442460679]|[58ea53dcd645272b...|Map(likelihood ->...|1491751418000|1491752017999|  hashtag|2017-04-21 18:56:...|4039b73e-80dc-429...|\n",
      "|            arras100|[851094392266006530]|[58ea530ad645272b...|Map(likelihood ->...|1491751418000|1491752017999|  hashtag|2017-04-21 18:56:...|4039b73e-80dc-429...|\n",
      "| chfilsummerroadtour|[851093908142473216]|[58ea5297d645272b...|Map(likelihood ->...|1491751418000|1491752017999|  hashtag|2017-04-21 18:56:...|4039b73e-80dc-429...|\n",
      "|       stagepresence|[851093792841224196]|[58ea527bd645272b...|Map(likelihood ->...|1491751418000|1491752017999|  hashtag|2017-04-21 18:56:...|4039b73e-80dc-429...|\n",
      "|                army|[851094187210661889]|[58ea52d9d645272b...|Map(likelihood ->...|1491751418000|1491752017999|  hashtag|2017-04-21 18:56:...|4039b73e-80dc-429...|\n",
      "|              erotic|[851095480218071042]|[58ea540dd645272b...|Map(likelihood ->...|1491751418000|1491752017999|  hashtag|2017-04-21 18:56:...|4039b73e-80dc-429...|\n",
      "|                 msf|[851093268754554881]|[58ea51fed645272b...|Map(likelihood ->...|1491751418000|1491752017999|  hashtag|2017-04-21 18:56:...|4039b73e-80dc-429...|\n",
      "|          otodogbame|[8510954510131404...|[58ea5407d645272b...|Map(likelihood ->...|1491751418000|1491752017999|  hashtag|2017-04-21 18:56:...|4039b73e-80dc-429...|\n",
      "|            soldiers|[8510953136623247...|[58ea53e6d645272b...|Map(likelihood ->...|1491751418000|1491752017999|  hashtag|2017-04-21 18:56:...|4039b73e-80dc-429...|\n",
      "|              tourdj|[851095529949986816]|[58ea5419d645272b...|Map(likelihood ->...|1491751418000|1491752017999|  hashtag|2017-04-21 18:56:...|4039b73e-80dc-429...|\n",
      "|                  us|[8510952108389580...|[58ea5318d645272b...|Map(likelihood ->...|1491751418000|1491752017999|  hashtag|2017-04-21 18:56:...|4039b73e-80dc-429...|\n",
      "|        zumamustfall|[851094692053872640]|[58ea5352d645272b...|Map(likelihood ->...|1491751418000|1491752017999|  hashtag|2017-04-21 18:56:...|4039b73e-80dc-429...|\n",
      "|                  役者|[851094856659161089]|[58ea5379d645272b...|Map(likelihood ->...|1491751418000|1491752017999|  hashtag|2017-04-21 18:56:...|4039b73e-80dc-429...|\n",
      "+--------------------+--------------------+--------------------+--------------------+-------------+-------------+---------+--------------------+--------------------+\n",
      "only showing top 20 rows\n",
      "\n"
     ]
    }
   ],
   "source": [
    "# cleanup all records before saving\n",
    "df10 = df9.withColumnRenamed('lterm', 'term')\\\n",
    ".drop('sum(pr_posts_count)',\n",
    "    'sum(pr_sim_posts_count)',\n",
    "    'curr_sim_posts_count',\n",
    "    'lam',\n",
    "    'curr_posts_count',\n",
    "    'is_unlikely',\n",
    "    'likelihood')\\\n",
    ".withColumn('start_time_ms', lit(start_time))\\\n",
    ".withColumn('end_time_ms', lit(end_time))\\\n",
    ".withColumn('data_type', lit('hashtag'))\\\n",
    ".withColumn('created', lit(dt.now()))\\\n",
    ".withColumn('_id', lit(str(uuid.uuid4())))\n",
    "\n",
    "# .withColumn('job_monitor_id', lit('TODO'))\\\n",
    "# .withColumn('similar_ids', lit('TODO'))\\\n",
    "\n",
    "df10.show()"
   ]
  },
  {
   "cell_type": "code",
   "execution_count": 399,
   "metadata": {},
   "outputs": [
    {
     "name": "stdout",
     "output_type": "stream",
     "text": [
      "+--------+--------------------+--------------------+--------------------+-------------+-------------+---------+--------------------+--------------------+\n",
      "|    term|    similar_post_ids|         similar_ids|               stats|start_time_ms|  end_time_ms|data_type|             created|                 _id|\n",
      "+--------+--------------------+--------------------+--------------------+-------------+-------------+---------+--------------------+--------------------+\n",
      "|egyptian|[8510937091395256...|[58ea5234d645272b...|Map(likelihood ->...|1491751418000|1491752017999|  hashtag|2017-04-21 18:56:...|4039b73e-80dc-429...|\n",
      "+--------+--------------------+--------------------+--------------------+-------------+-------------+---------+--------------------+--------------------+\n",
      "\n"
     ]
    },
    {
     "data": {
      "text/plain": [
       "5"
      ]
     },
     "execution_count": 399,
     "metadata": {},
     "output_type": "execute_result"
    }
   ],
   "source": [
    "df11 = df10.filter(size(df10['similar_post_ids']) >= min_posts)\n",
    "df11.limit(1).show()\n",
    "df11.count()"
   ]
  },
  {
   "cell_type": "code",
   "execution_count": 400,
   "metadata": {
    "collapsed": true
   },
   "outputs": [],
   "source": [
    "df11.limit(1).write.format(mongo_ds).mode('append').options(**priors_uri).save()"
   ]
  },
  {
   "cell_type": "code",
   "execution_count": null,
   "metadata": {
    "collapsed": true
   },
   "outputs": [],
   "source": []
  }
 ],
 "metadata": {
  "kernelspec": {
   "display_name": "Python 3",
   "language": "python",
   "name": "python3"
  },
  "language_info": {
   "codemirror_mode": {
    "name": "ipython",
    "version": 3
   },
   "file_extension": ".py",
   "mimetype": "text/x-python",
   "name": "python",
   "nbconvert_exporter": "python",
   "pygments_lexer": "ipython3",
   "version": "3.5.2"
  }
 },
 "nbformat": 4,
 "nbformat_minor": 2
}
